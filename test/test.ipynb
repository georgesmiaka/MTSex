{
 "cells": [
  {
   "cell_type": "code",
   "execution_count": 14,
   "metadata": {},
   "outputs": [],
   "source": [
    "import numpy as np\n",
    "from itertools import product\n",
    "\n",
    "def create_mask(feature_num, exclude_feature=None):\n",
    "    \"\"\"\n",
    "    Generate and return the coalition matrix of size 2^feature_num, excluding \n",
    "    coalitions where the specified feature (exclude_feature) appears.\n",
    "    \"\"\"\n",
    "    \n",
    "    # Generate the coalition matrix\n",
    "    mask = np.array(list(product(range(2), repeat=feature_num)))\n",
    "    \n",
    "    # Remove the all-zero and all-one coalitions\n",
    "    mask = mask[~np.all(mask == 0, axis=1)]\n",
    "    mask = mask[~np.all(mask == 1, axis=1)]\n",
    "    \n",
    "    # If exclude_feature is specified, remove all coalitions where this feature appears\n",
    "    if exclude_feature is not None and 0 <= exclude_feature < feature_num:\n",
    "        mask = mask[mask[:, exclude_feature] == 0]\n",
    "    \n",
    "    return mask\n"
   ]
  },
  {
   "cell_type": "code",
   "execution_count": 15,
   "metadata": {},
   "outputs": [],
   "source": [
    "mask = create_mask(16, 0)"
   ]
  },
  {
   "cell_type": "code",
   "execution_count": 16,
   "metadata": {},
   "outputs": [
    {
     "data": {
      "text/plain": [
       "array([[0, 0, 0, ..., 0, 0, 1],\n",
       "       [0, 0, 0, ..., 0, 1, 0],\n",
       "       [0, 0, 0, ..., 0, 1, 1],\n",
       "       ...,\n",
       "       [0, 1, 1, ..., 1, 0, 1],\n",
       "       [0, 1, 1, ..., 1, 1, 0],\n",
       "       [0, 1, 1, ..., 1, 1, 1]])"
      ]
     },
     "execution_count": 16,
     "metadata": {},
     "output_type": "execute_result"
    }
   ],
   "source": [
    "mask"
   ]
  },
  {
   "cell_type": "code",
   "execution_count": 17,
   "metadata": {},
   "outputs": [
    {
     "data": {
      "text/plain": [
       "32767"
      ]
     },
     "execution_count": 17,
     "metadata": {},
     "output_type": "execute_result"
    }
   ],
   "source": [
    "len(mask)"
   ]
  },
  {
   "cell_type": "code",
   "execution_count": 18,
   "metadata": {},
   "outputs": [
    {
     "data": {
      "text/plain": [
       "array([0, 0, 0, 0, 0, 0, 0, 0, 0, 0, 0, 0, 0, 0, 0, 1])"
      ]
     },
     "execution_count": 18,
     "metadata": {},
     "output_type": "execute_result"
    }
   ],
   "source": [
    "mask[0]"
   ]
  },
  {
   "cell_type": "code",
   "execution_count": 21,
   "metadata": {},
   "outputs": [
    {
     "data": {
      "text/plain": [
       "array([0, 1, 1, 1, 1, 1, 1, 1, 1, 1, 1, 1, 1, 1, 1, 1])"
      ]
     },
     "execution_count": 21,
     "metadata": {},
     "output_type": "execute_result"
    }
   ],
   "source": [
    "mask[32766]"
   ]
  },
  {
   "cell_type": "code",
   "execution_count": 22,
   "metadata": {},
   "outputs": [],
   "source": [
    "import numpy as np\n",
    "from itertools import product\n",
    "\n",
    "def create_mask(feature_num, exclude_feature=None):\n",
    "    \"\"\"\n",
    "    Generate and return the coalition matrix of size 2^feature_num, excluding \n",
    "    coalitions where the specified feature (exclude_feature) appears. If feature_num\n",
    "    is greater than 10, randomly sample 2^10 coalitions from the final matrix.\n",
    "    \"\"\"\n",
    "    max_feature_num = 10\n",
    "    sample_size = 2 ** max_feature_num\n",
    "\n",
    "    # Generate the coalition matrix\n",
    "    mask = np.array(list(product(range(2), repeat=feature_num)))\n",
    "    \n",
    "    # Remove the all-zero and all-one coalitions\n",
    "    mask = mask[~np.all(mask == 0, axis=1)]\n",
    "    mask = mask[~np.all(mask == 1, axis=1)]\n",
    "    \n",
    "    # If exclude_feature is specified, remove all coalitions where this feature appears\n",
    "    if exclude_feature is not None and 0 <= exclude_feature < feature_num:\n",
    "        mask = mask[mask[:, exclude_feature] == 0]\n",
    "\n",
    "    # If feature_num is greater than max_feature_num, randomly sample 2^max_feature_num coalitions\n",
    "    if feature_num > max_feature_num:\n",
    "        if mask.shape[0] > sample_size:\n",
    "            #np.random.seed(42)  # If we want to get the same results every time we run the code\n",
    "            mask = mask[np.random.choice(mask.shape[0], sample_size, replace=False)]\n",
    "        else:\n",
    "            print(f\"Warning: The number of available coalitions ({mask.shape[0]}) is less than {sample_size}.\")\n",
    "    \n",
    "    return mask\n"
   ]
  },
  {
   "cell_type": "code",
   "execution_count": 32,
   "metadata": {},
   "outputs": [],
   "source": [
    "mask2 = create_mask(16, 0)"
   ]
  },
  {
   "cell_type": "code",
   "execution_count": 33,
   "metadata": {},
   "outputs": [
    {
     "data": {
      "text/plain": [
       "array([[0, 0, 1, ..., 1, 0, 0],\n",
       "       [0, 0, 1, ..., 1, 0, 1],\n",
       "       [0, 1, 1, ..., 1, 0, 1],\n",
       "       ...,\n",
       "       [0, 1, 0, ..., 1, 1, 1],\n",
       "       [0, 1, 0, ..., 0, 0, 1],\n",
       "       [0, 0, 0, ..., 1, 0, 1]])"
      ]
     },
     "execution_count": 33,
     "metadata": {},
     "output_type": "execute_result"
    }
   ],
   "source": [
    "mask2"
   ]
  },
  {
   "cell_type": "code",
   "execution_count": 34,
   "metadata": {},
   "outputs": [
    {
     "data": {
      "text/plain": [
       "1024"
      ]
     },
     "execution_count": 34,
     "metadata": {},
     "output_type": "execute_result"
    }
   ],
   "source": [
    "len(mask2)"
   ]
  },
  {
   "cell_type": "code",
   "execution_count": 35,
   "metadata": {},
   "outputs": [
    {
     "data": {
      "text/plain": [
       "array([0, 0, 1, 1, 1, 0, 0, 1, 0, 1, 1, 1, 0, 1, 0, 0])"
      ]
     },
     "execution_count": 35,
     "metadata": {},
     "output_type": "execute_result"
    }
   ],
   "source": [
    "mask2[0]"
   ]
  },
  {
   "cell_type": "code",
   "execution_count": 36,
   "metadata": {},
   "outputs": [
    {
     "data": {
      "text/plain": [
       "array([0, 0, 0, 0, 1, 0, 1, 1, 1, 0, 0, 0, 1, 1, 0, 1])"
      ]
     },
     "execution_count": 36,
     "metadata": {},
     "output_type": "execute_result"
    }
   ],
   "source": [
    "mask2[1023]"
   ]
  }
 ],
 "metadata": {
  "kernelspec": {
   "display_name": "Python 3",
   "language": "python",
   "name": "python3"
  },
  "language_info": {
   "codemirror_mode": {
    "name": "ipython",
    "version": 3
   },
   "file_extension": ".py",
   "mimetype": "text/x-python",
   "name": "python",
   "nbconvert_exporter": "python",
   "pygments_lexer": "ipython3",
   "version": "3.10.12"
  }
 },
 "nbformat": 4,
 "nbformat_minor": 2
}
